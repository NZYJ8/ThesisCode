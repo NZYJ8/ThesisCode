{
 "cells": [
  {
   "cell_type": "markdown",
   "id": "e2c152e7",
   "metadata": {},
   "source": [
    "# Demonstration of glacier simulations conducted using OGGM\n",
    "These simulations rely upon two functions, 'chunk_sim' (which conducts the simulations over chunks to prevent overload) and 'multi_sim' (which oversees the use of 'chunk_sim', dividing glacier RGI IDs into the chunks for simulation under the ensemble of GCMs provided) and must be run in a Jupyter Notebook using a kernel with OGGM installed.\n",
    "\n",
    "At the scale used in this study, the runtime easily reaches multiple hours per GCM, hence often it was more appropriate to only run a couple of GCMs at a time. Whilst it would also be possible to design the functions to receive a list of RGI Ids, in my case the list was always fixed to all glaciers in the study sample so the IDs are read internally. For demonstration purposes, the code that reads in the RGI IDs csv has been capped to only read in the first 4 glaciers and perform simulations using two chunks.  \n",
    "\n",
    "An optimal chunk size was found to be ~50 to prevent overloading, however this is likely dependent upon the power of computer being used. All simulations for the study used four chunks (equating to chunks of 3,000 glaciers)."
   ]
  },
  {
   "cell_type": "code",
   "execution_count": 1,
   "id": "e7aceffd",
   "metadata": {},
   "outputs": [],
   "source": [
    "# Imports\n",
    "from SimCodes import multi_sim, chunk_sim, thickness_sim, thickness_ensemble"
   ]
  },
  {
   "cell_type": "code",
   "execution_count": 2,
   "id": "44126959",
   "metadata": {},
   "outputs": [
    {
     "name": "stderr",
     "output_type": "stream",
     "text": [
      "2025-08-15 14:29:09: oggm.cfg: Reading default parameters from the OGGM `params.cfg` configuration file.\n",
      "2025-08-15 14:29:09: oggm.cfg: Multiprocessing switched OFF according to the parameter file.\n",
      "2025-08-15 14:29:09: oggm.cfg: Multiprocessing: using all available processors (N=8)\n",
      "2025-08-15 14:29:09: oggm.cfg: Multiprocessing switched ON after user settings.\n",
      "2025-08-15 14:29:09: oggm.cfg: PARAMS['store_fl_diagnostics'] changed from `False` to `True`.\n"
     ]
    },
    {
     "name": "stdout",
     "output_type": "stream",
     "text": [
      "Starting chunk 1/2 with 2 glaciers\n",
      "Processing 2 glaciers\n"
     ]
    },
    {
     "name": "stderr",
     "output_type": "stream",
     "text": [
      "Glacier processing:   0%|          | 0/1 [00:00<?, ?it/s]2025-08-15 14:29:09: oggm.workflow: init_glacier_directories from prepro level 5 on 2 glaciers.\n",
      "2025-08-15 14:29:09: oggm.workflow: Execute entity tasks [gdir_from_prepro] on 2 glaciers\n",
      "2025-08-15 14:29:15: oggm.workflow: Execute entity tasks [process_cmip_data] on 2 glaciers\n",
      "2025-08-15 14:29:18: oggm.workflow: Execute entity tasks [process_cmip_data] on 2 glaciers\n",
      "2025-08-15 14:29:21: oggm.workflow: Execute entity tasks [process_cmip_data] on 2 glaciers\n",
      "2025-08-15 14:29:24: oggm.workflow: Execute entity tasks [process_cmip_data] on 2 glaciers\n",
      "2025-08-15 14:29:27: oggm.workflow: Execute entity tasks [run_from_climate_data] on 2 glaciers\n",
      "2025-08-15 14:29:28: oggm.workflow: Execute entity tasks [run_from_climate_data] on 2 glaciers\n",
      "2025-08-15 14:29:28: oggm.workflow: Execute entity tasks [run_from_climate_data] on 2 glaciers\n",
      "2025-08-15 14:29:28: oggm.workflow: Execute entity tasks [run_from_climate_data] on 2 glaciers\n",
      "Glacier processing: 100%|██████████| 1/1 [00:19<00:00, 19.83s/it]\n",
      "2025-08-15 14:29:29: oggm.utils: Applying global task compile_run_output on 2 glaciers\n",
      "2025-08-15 14:29:29: oggm.utils: Applying compile_run_output on 2 gdirs.\n",
      "2025-08-15 14:29:29: oggm.utils: Applying global task compile_run_output on 2 glaciers\n",
      "2025-08-15 14:29:29: oggm.utils: Applying compile_run_output on 2 gdirs.\n",
      "2025-08-15 14:29:29: oggm.utils: Applying global task compile_run_output on 2 glaciers\n",
      "2025-08-15 14:29:29: oggm.utils: Applying compile_run_output on 2 gdirs.\n",
      "2025-08-15 14:29:29: oggm.utils: Applying global task compile_run_output on 2 glaciers\n",
      "2025-08-15 14:29:29: oggm.utils: Applying compile_run_output on 2 gdirs.\n"
     ]
    },
    {
     "name": "stdout",
     "output_type": "stream",
     "text": [
      "\n",
      "Chunk complete, glacier results saved to DemoExportBCC_CSM2_MR_Output.csv and climate data saved to DemoExportBCC_CSM2_MR_ClimateData.csv\n",
      "Starting chunk 2/2 with 2 glaciers\n",
      "Processing 2 glaciers\n"
     ]
    },
    {
     "name": "stderr",
     "output_type": "stream",
     "text": [
      "Glacier processing:   0%|          | 0/1 [00:00<?, ?it/s]2025-08-15 14:29:30: oggm.workflow: init_glacier_directories from prepro level 5 on 2 glaciers.\n",
      "2025-08-15 14:29:30: oggm.workflow: Execute entity tasks [gdir_from_prepro] on 2 glaciers\n",
      "2025-08-15 14:29:30: oggm.workflow: Execute entity tasks [process_cmip_data] on 2 glaciers\n",
      "2025-08-15 14:29:33: oggm.workflow: Execute entity tasks [process_cmip_data] on 2 glaciers\n",
      "2025-08-15 14:29:35: oggm.workflow: Execute entity tasks [process_cmip_data] on 2 glaciers\n",
      "2025-08-15 14:29:38: oggm.workflow: Execute entity tasks [process_cmip_data] on 2 glaciers\n",
      "2025-08-15 14:29:41: oggm.workflow: Execute entity tasks [run_from_climate_data] on 2 glaciers\n",
      "2025-08-15 14:29:41: oggm.workflow: Execute entity tasks [run_from_climate_data] on 2 glaciers\n",
      "2025-08-15 14:29:41: oggm.workflow: Execute entity tasks [run_from_climate_data] on 2 glaciers\n",
      "2025-08-15 14:29:42: oggm.workflow: Execute entity tasks [run_from_climate_data] on 2 glaciers\n",
      "Glacier processing: 100%|██████████| 1/1 [00:12<00:00, 12.56s/it]\n",
      "2025-08-15 14:29:42: oggm.utils: Applying global task compile_run_output on 2 glaciers\n",
      "2025-08-15 14:29:42: oggm.utils: Applying compile_run_output on 2 gdirs.\n",
      "2025-08-15 14:29:42: oggm.utils: Applying global task compile_run_output on 2 glaciers\n",
      "2025-08-15 14:29:42: oggm.utils: Applying compile_run_output on 2 gdirs.\n",
      "2025-08-15 14:29:42: oggm.utils: Applying global task compile_run_output on 2 glaciers\n",
      "2025-08-15 14:29:42: oggm.utils: Applying compile_run_output on 2 gdirs.\n",
      "2025-08-15 14:29:42: oggm.utils: Applying global task compile_run_output on 2 glaciers\n",
      "2025-08-15 14:29:42: oggm.utils: Applying compile_run_output on 2 gdirs.\n",
      "2025-08-15 14:29:42: oggm.cfg: Reading default parameters from the OGGM `params.cfg` configuration file.\n",
      "2025-08-15 14:29:42: oggm.cfg: Multiprocessing switched OFF according to the parameter file.\n",
      "2025-08-15 14:29:42: oggm.cfg: Multiprocessing: using all available processors (N=8)\n",
      "2025-08-15 14:29:42: oggm.cfg: Multiprocessing switched ON after user settings.\n",
      "2025-08-15 14:29:42: oggm.cfg: PARAMS['store_fl_diagnostics'] changed from `False` to `True`.\n"
     ]
    },
    {
     "name": "stdout",
     "output_type": "stream",
     "text": [
      "\n",
      "Chunk complete, glacier results saved to DemoExportBCC_CSM2_MR_Output.csv and climate data saved to DemoExportBCC_CSM2_MR_ClimateData.csv\n",
      "Starting chunk 1/2 with 2 glaciers\n",
      "Processing 2 glaciers\n"
     ]
    },
    {
     "name": "stderr",
     "output_type": "stream",
     "text": [
      "Glacier processing:   0%|          | 0/1 [00:00<?, ?it/s]2025-08-15 14:29:42: oggm.workflow: init_glacier_directories from prepro level 5 on 2 glaciers.\n",
      "2025-08-15 14:29:42: oggm.workflow: Execute entity tasks [gdir_from_prepro] on 2 glaciers\n",
      "2025-08-15 14:29:49: oggm.workflow: Execute entity tasks [process_cmip_data] on 2 glaciers\n",
      "2025-08-15 14:29:52: oggm.workflow: Execute entity tasks [process_cmip_data] on 2 glaciers\n",
      "2025-08-15 14:29:55: oggm.workflow: Execute entity tasks [process_cmip_data] on 2 glaciers\n",
      "2025-08-15 14:29:58: oggm.workflow: Execute entity tasks [process_cmip_data] on 2 glaciers\n",
      "2025-08-15 14:30:01: oggm.workflow: Execute entity tasks [run_from_climate_data] on 2 glaciers\n",
      "2025-08-15 14:30:01: oggm.workflow: Execute entity tasks [run_from_climate_data] on 2 glaciers\n",
      "2025-08-15 14:30:02: oggm.workflow: Execute entity tasks [run_from_climate_data] on 2 glaciers\n",
      "2025-08-15 14:30:02: oggm.workflow: Execute entity tasks [run_from_climate_data] on 2 glaciers\n",
      "Glacier processing: 100%|██████████| 1/1 [00:20<00:00, 20.34s/it]\n",
      "2025-08-15 14:30:03: oggm.utils: Applying global task compile_run_output on 2 glaciers\n",
      "2025-08-15 14:30:03: oggm.utils: Applying compile_run_output on 2 gdirs.\n",
      "2025-08-15 14:30:03: oggm.utils: Applying global task compile_run_output on 2 glaciers\n",
      "2025-08-15 14:30:03: oggm.utils: Applying compile_run_output on 2 gdirs.\n",
      "2025-08-15 14:30:03: oggm.utils: Applying global task compile_run_output on 2 glaciers\n",
      "2025-08-15 14:30:03: oggm.utils: Applying compile_run_output on 2 gdirs.\n",
      "2025-08-15 14:30:03: oggm.utils: Applying global task compile_run_output on 2 glaciers\n",
      "2025-08-15 14:30:03: oggm.utils: Applying compile_run_output on 2 gdirs.\n"
     ]
    },
    {
     "name": "stdout",
     "output_type": "stream",
     "text": [
      "\n",
      "Chunk complete, glacier results saved to DemoExportCAMS_CSM1_0_Output.csv and climate data saved to DemoExportCAMS_CSM1_0_ClimateData.csv\n",
      "Starting chunk 2/2 with 2 glaciers\n",
      "Processing 2 glaciers\n"
     ]
    },
    {
     "name": "stderr",
     "output_type": "stream",
     "text": [
      "Glacier processing:   0%|          | 0/1 [00:00<?, ?it/s]2025-08-15 14:30:03: oggm.workflow: init_glacier_directories from prepro level 5 on 2 glaciers.\n",
      "2025-08-15 14:30:03: oggm.workflow: Execute entity tasks [gdir_from_prepro] on 2 glaciers\n",
      "2025-08-15 14:30:04: oggm.workflow: Execute entity tasks [process_cmip_data] on 2 glaciers\n",
      "2025-08-15 14:30:06: oggm.workflow: Execute entity tasks [process_cmip_data] on 2 glaciers\n",
      "2025-08-15 14:30:09: oggm.workflow: Execute entity tasks [process_cmip_data] on 2 glaciers\n",
      "2025-08-15 14:30:12: oggm.workflow: Execute entity tasks [process_cmip_data] on 2 glaciers\n",
      "2025-08-15 14:30:15: oggm.workflow: Execute entity tasks [run_from_climate_data] on 2 glaciers\n",
      "2025-08-15 14:30:15: oggm.workflow: Execute entity tasks [run_from_climate_data] on 2 glaciers\n",
      "2025-08-15 14:30:15: oggm.workflow: Execute entity tasks [run_from_climate_data] on 2 glaciers\n",
      "2025-08-15 14:30:15: oggm.workflow: Execute entity tasks [run_from_climate_data] on 2 glaciers\n",
      "Glacier processing: 100%|██████████| 1/1 [00:12<00:00, 12.32s/it]\n",
      "2025-08-15 14:30:15: oggm.utils: Applying global task compile_run_output on 2 glaciers\n",
      "2025-08-15 14:30:15: oggm.utils: Applying compile_run_output on 2 gdirs.\n",
      "2025-08-15 14:30:15: oggm.utils: Applying global task compile_run_output on 2 glaciers\n",
      "2025-08-15 14:30:15: oggm.utils: Applying compile_run_output on 2 gdirs.\n",
      "2025-08-15 14:30:15: oggm.utils: Applying global task compile_run_output on 2 glaciers\n",
      "2025-08-15 14:30:15: oggm.utils: Applying compile_run_output on 2 gdirs.\n",
      "2025-08-15 14:30:15: oggm.utils: Applying global task compile_run_output on 2 glaciers\n",
      "2025-08-15 14:30:15: oggm.utils: Applying compile_run_output on 2 gdirs.\n",
      "2025-08-15 14:30:16: oggm.cfg: Reading default parameters from the OGGM `params.cfg` configuration file.\n",
      "2025-08-15 14:30:16: oggm.cfg: Multiprocessing switched OFF according to the parameter file.\n",
      "2025-08-15 14:30:16: oggm.cfg: Multiprocessing: using all available processors (N=8)\n",
      "2025-08-15 14:30:16: oggm.cfg: Multiprocessing switched ON after user settings.\n",
      "2025-08-15 14:30:16: oggm.cfg: PARAMS['store_fl_diagnostics'] changed from `False` to `True`.\n"
     ]
    },
    {
     "name": "stdout",
     "output_type": "stream",
     "text": [
      "\n",
      "Chunk complete, glacier results saved to DemoExportCAMS_CSM1_0_Output.csv and climate data saved to DemoExportCAMS_CSM1_0_ClimateData.csv\n",
      "Starting chunk 1/2 with 2 glaciers\n",
      "Processing 2 glaciers\n"
     ]
    },
    {
     "name": "stderr",
     "output_type": "stream",
     "text": [
      "Glacier processing:   0%|          | 0/1 [00:00<?, ?it/s]2025-08-15 14:30:16: oggm.workflow: init_glacier_directories from prepro level 5 on 2 glaciers.\n",
      "2025-08-15 14:30:16: oggm.workflow: Execute entity tasks [gdir_from_prepro] on 2 glaciers\n",
      "2025-08-15 14:30:22: oggm.workflow: Execute entity tasks [process_cmip_data] on 2 glaciers\n",
      "2025-08-15 14:30:25: oggm.workflow: Execute entity tasks [process_cmip_data] on 2 glaciers\n",
      "2025-08-15 14:30:27: oggm.workflow: Execute entity tasks [process_cmip_data] on 2 glaciers\n",
      "2025-08-15 14:30:29: oggm.workflow: Execute entity tasks [process_cmip_data] on 2 glaciers\n",
      "2025-08-15 14:30:32: oggm.workflow: Execute entity tasks [run_from_climate_data] on 2 glaciers\n",
      "2025-08-15 14:30:32: oggm.workflow: Execute entity tasks [run_from_climate_data] on 2 glaciers\n",
      "2025-08-15 14:30:32: oggm.workflow: Execute entity tasks [run_from_climate_data] on 2 glaciers\n",
      "2025-08-15 14:30:33: oggm.workflow: Execute entity tasks [run_from_climate_data] on 2 glaciers\n",
      "Glacier processing: 100%|██████████| 1/1 [00:17<00:00, 17.45s/it]\n",
      "2025-08-15 14:30:33: oggm.utils: Applying global task compile_run_output on 2 glaciers\n",
      "2025-08-15 14:30:33: oggm.utils: Applying compile_run_output on 2 gdirs.\n",
      "2025-08-15 14:30:33: oggm.utils: Applying global task compile_run_output on 2 glaciers\n",
      "2025-08-15 14:30:33: oggm.utils: Applying compile_run_output on 2 gdirs.\n",
      "2025-08-15 14:30:33: oggm.utils: Applying global task compile_run_output on 2 glaciers\n",
      "2025-08-15 14:30:33: oggm.utils: Applying compile_run_output on 2 gdirs.\n",
      "2025-08-15 14:30:33: oggm.utils: Applying global task compile_run_output on 2 glaciers\n",
      "2025-08-15 14:30:33: oggm.utils: Applying compile_run_output on 2 gdirs.\n"
     ]
    },
    {
     "name": "stdout",
     "output_type": "stream",
     "text": [
      "\n",
      "Chunk complete, glacier results saved to DemoExportCESM2_Output.csv and climate data saved to DemoExportCESM2_ClimateData.csv\n",
      "Starting chunk 2/2 with 2 glaciers\n",
      "Processing 2 glaciers\n"
     ]
    },
    {
     "name": "stderr",
     "output_type": "stream",
     "text": [
      "Glacier processing:   0%|          | 0/1 [00:00<?, ?it/s]2025-08-15 14:30:34: oggm.workflow: init_glacier_directories from prepro level 5 on 2 glaciers.\n",
      "2025-08-15 14:30:34: oggm.workflow: Execute entity tasks [gdir_from_prepro] on 2 glaciers\n",
      "2025-08-15 14:30:34: oggm.workflow: Execute entity tasks [process_cmip_data] on 2 glaciers\n",
      "2025-08-15 14:30:36: oggm.workflow: Execute entity tasks [process_cmip_data] on 2 glaciers\n",
      "2025-08-15 14:30:38: oggm.workflow: Execute entity tasks [process_cmip_data] on 2 glaciers\n",
      "2025-08-15 14:30:40: oggm.workflow: Execute entity tasks [process_cmip_data] on 2 glaciers\n",
      "2025-08-15 14:30:41: oggm.workflow: Execute entity tasks [run_from_climate_data] on 2 glaciers\n",
      "2025-08-15 14:30:41: oggm.workflow: Execute entity tasks [run_from_climate_data] on 2 glaciers\n",
      "2025-08-15 14:30:42: oggm.workflow: Execute entity tasks [run_from_climate_data] on 2 glaciers\n",
      "2025-08-15 14:30:42: oggm.workflow: Execute entity tasks [run_from_climate_data] on 2 glaciers\n",
      "Glacier processing: 100%|██████████| 1/1 [00:08<00:00,  8.61s/it]\n",
      "2025-08-15 14:30:42: oggm.utils: Applying global task compile_run_output on 2 glaciers\n",
      "2025-08-15 14:30:42: oggm.utils: Applying compile_run_output on 2 gdirs.\n",
      "2025-08-15 14:30:42: oggm.utils: Applying global task compile_run_output on 2 glaciers\n",
      "2025-08-15 14:30:42: oggm.utils: Applying compile_run_output on 2 gdirs.\n",
      "2025-08-15 14:30:42: oggm.utils: Applying global task compile_run_output on 2 glaciers\n",
      "2025-08-15 14:30:42: oggm.utils: Applying compile_run_output on 2 gdirs.\n",
      "2025-08-15 14:30:42: oggm.utils: Applying global task compile_run_output on 2 glaciers\n",
      "2025-08-15 14:30:42: oggm.utils: Applying compile_run_output on 2 gdirs.\n",
      "2025-08-15 14:30:42: oggm.cfg: Reading default parameters from the OGGM `params.cfg` configuration file.\n",
      "2025-08-15 14:30:42: oggm.cfg: Multiprocessing switched OFF according to the parameter file.\n",
      "2025-08-15 14:30:42: oggm.cfg: Multiprocessing: using all available processors (N=8)\n",
      "2025-08-15 14:30:42: oggm.cfg: Multiprocessing switched ON after user settings.\n",
      "2025-08-15 14:30:42: oggm.cfg: PARAMS['store_fl_diagnostics'] changed from `False` to `True`.\n"
     ]
    },
    {
     "name": "stdout",
     "output_type": "stream",
     "text": [
      "\n",
      "Chunk complete, glacier results saved to DemoExportCESM2_Output.csv and climate data saved to DemoExportCESM2_ClimateData.csv\n",
      "Starting chunk 1/2 with 2 glaciers\n",
      "Processing 2 glaciers\n"
     ]
    },
    {
     "name": "stderr",
     "output_type": "stream",
     "text": [
      "Glacier processing:   0%|          | 0/1 [00:00<?, ?it/s]2025-08-15 14:30:43: oggm.workflow: init_glacier_directories from prepro level 5 on 2 glaciers.\n",
      "2025-08-15 14:30:43: oggm.workflow: Execute entity tasks [gdir_from_prepro] on 2 glaciers\n",
      "2025-08-15 14:30:49: oggm.workflow: Execute entity tasks [process_cmip_data] on 2 glaciers\n",
      "2025-08-15 14:30:53: oggm.workflow: Execute entity tasks [process_cmip_data] on 2 glaciers\n",
      "2025-08-15 14:30:56: oggm.workflow: Execute entity tasks [process_cmip_data] on 2 glaciers\n",
      "2025-08-15 14:31:00: oggm.workflow: Execute entity tasks [process_cmip_data] on 2 glaciers\n",
      "2025-08-15 14:31:04: oggm.workflow: Execute entity tasks [run_from_climate_data] on 2 glaciers\n",
      "2025-08-15 14:31:05: oggm.workflow: Execute entity tasks [run_from_climate_data] on 2 glaciers\n",
      "2025-08-15 14:31:05: oggm.workflow: Execute entity tasks [run_from_climate_data] on 2 glaciers\n",
      "2025-08-15 14:31:06: oggm.workflow: Execute entity tasks [run_from_climate_data] on 2 glaciers\n",
      "Glacier processing: 100%|██████████| 1/1 [00:23<00:00, 23.47s/it]\n",
      "2025-08-15 14:31:06: oggm.utils: Applying global task compile_run_output on 2 glaciers\n",
      "2025-08-15 14:31:06: oggm.utils: Applying compile_run_output on 2 gdirs.\n",
      "2025-08-15 14:31:06: oggm.utils: Applying global task compile_run_output on 2 glaciers\n",
      "2025-08-15 14:31:06: oggm.utils: Applying compile_run_output on 2 gdirs.\n",
      "2025-08-15 14:31:06: oggm.utils: Applying global task compile_run_output on 2 glaciers\n",
      "2025-08-15 14:31:06: oggm.utils: Applying compile_run_output on 2 gdirs.\n",
      "2025-08-15 14:31:06: oggm.utils: Applying global task compile_run_output on 2 glaciers\n",
      "2025-08-15 14:31:06: oggm.utils: Applying compile_run_output on 2 gdirs.\n"
     ]
    },
    {
     "name": "stdout",
     "output_type": "stream",
     "text": [
      "\n",
      "Chunk complete, glacier results saved to DemoExportEC_Earth3_Veg_Output.csv and climate data saved to DemoExportEC_Earth3_Veg_ClimateData.csv\n",
      "Starting chunk 2/2 with 2 glaciers\n",
      "Processing 2 glaciers\n"
     ]
    },
    {
     "name": "stderr",
     "output_type": "stream",
     "text": [
      "Glacier processing:   0%|          | 0/1 [00:00<?, ?it/s]2025-08-15 14:31:07: oggm.workflow: init_glacier_directories from prepro level 5 on 2 glaciers.\n",
      "2025-08-15 14:31:07: oggm.workflow: Execute entity tasks [gdir_from_prepro] on 2 glaciers\n",
      "2025-08-15 14:31:07: oggm.workflow: Execute entity tasks [process_cmip_data] on 2 glaciers\n",
      "2025-08-15 14:31:10: oggm.workflow: Execute entity tasks [process_cmip_data] on 2 glaciers\n",
      "2025-08-15 14:31:13: oggm.workflow: Execute entity tasks [process_cmip_data] on 2 glaciers\n",
      "2025-08-15 14:31:16: oggm.workflow: Execute entity tasks [process_cmip_data] on 2 glaciers\n",
      "2025-08-15 14:31:19: oggm.workflow: Execute entity tasks [run_from_climate_data] on 2 glaciers\n",
      "2025-08-15 14:31:19: oggm.workflow: Execute entity tasks [run_from_climate_data] on 2 glaciers\n",
      "2025-08-15 14:31:20: oggm.workflow: Execute entity tasks [run_from_climate_data] on 2 glaciers\n",
      "2025-08-15 14:31:20: oggm.workflow: Execute entity tasks [run_from_climate_data] on 2 glaciers\n",
      "Glacier processing: 100%|██████████| 1/1 [00:13<00:00, 13.73s/it]\n",
      "2025-08-15 14:31:20: oggm.utils: Applying global task compile_run_output on 2 glaciers\n",
      "2025-08-15 14:31:20: oggm.utils: Applying compile_run_output on 2 gdirs.\n",
      "2025-08-15 14:31:20: oggm.utils: Applying global task compile_run_output on 2 glaciers\n",
      "2025-08-15 14:31:20: oggm.utils: Applying compile_run_output on 2 gdirs.\n",
      "2025-08-15 14:31:20: oggm.utils: Applying global task compile_run_output on 2 glaciers\n",
      "2025-08-15 14:31:20: oggm.utils: Applying compile_run_output on 2 gdirs.\n",
      "2025-08-15 14:31:20: oggm.utils: Applying global task compile_run_output on 2 glaciers\n",
      "2025-08-15 14:31:20: oggm.utils: Applying compile_run_output on 2 gdirs.\n",
      "2025-08-15 14:31:20: oggm.cfg: Reading default parameters from the OGGM `params.cfg` configuration file.\n",
      "2025-08-15 14:31:20: oggm.cfg: Multiprocessing switched OFF according to the parameter file.\n",
      "2025-08-15 14:31:20: oggm.cfg: Multiprocessing: using all available processors (N=8)\n",
      "2025-08-15 14:31:20: oggm.cfg: Multiprocessing switched ON after user settings.\n",
      "2025-08-15 14:31:20: oggm.cfg: PARAMS['store_fl_diagnostics'] changed from `False` to `True`.\n"
     ]
    },
    {
     "name": "stdout",
     "output_type": "stream",
     "text": [
      "\n",
      "Chunk complete, glacier results saved to DemoExportEC_Earth3_Veg_Output.csv and climate data saved to DemoExportEC_Earth3_Veg_ClimateData.csv\n",
      "Starting chunk 1/2 with 2 glaciers\n",
      "Processing 2 glaciers\n"
     ]
    },
    {
     "name": "stderr",
     "output_type": "stream",
     "text": [
      "Glacier processing:   0%|          | 0/1 [00:00<?, ?it/s]2025-08-15 14:31:21: oggm.workflow: init_glacier_directories from prepro level 5 on 2 glaciers.\n",
      "2025-08-15 14:31:21: oggm.workflow: Execute entity tasks [gdir_from_prepro] on 2 glaciers\n",
      "2025-08-15 14:31:28: oggm.workflow: Execute entity tasks [process_cmip_data] on 2 glaciers\n",
      "2025-08-15 14:31:31: oggm.workflow: Execute entity tasks [process_cmip_data] on 2 glaciers\n",
      "2025-08-15 14:31:34: oggm.workflow: Execute entity tasks [process_cmip_data] on 2 glaciers\n",
      "2025-08-15 14:31:36: oggm.workflow: Execute entity tasks [process_cmip_data] on 2 glaciers\n",
      "2025-08-15 14:31:39: oggm.workflow: Execute entity tasks [run_from_climate_data] on 2 glaciers\n",
      "2025-08-15 14:31:40: oggm.workflow: Execute entity tasks [run_from_climate_data] on 2 glaciers\n",
      "2025-08-15 14:31:40: oggm.workflow: Execute entity tasks [run_from_climate_data] on 2 glaciers\n",
      "2025-08-15 14:31:40: oggm.workflow: Execute entity tasks [run_from_climate_data] on 2 glaciers\n",
      "Glacier processing: 100%|██████████| 1/1 [00:20<00:00, 20.29s/it]\n",
      "2025-08-15 14:31:41: oggm.utils: Applying global task compile_run_output on 2 glaciers\n",
      "2025-08-15 14:31:41: oggm.utils: Applying compile_run_output on 2 gdirs.\n",
      "2025-08-15 14:31:41: oggm.utils: Applying global task compile_run_output on 2 glaciers\n",
      "2025-08-15 14:31:41: oggm.utils: Applying compile_run_output on 2 gdirs.\n",
      "2025-08-15 14:31:41: oggm.utils: Applying global task compile_run_output on 2 glaciers\n",
      "2025-08-15 14:31:41: oggm.utils: Applying compile_run_output on 2 gdirs.\n",
      "2025-08-15 14:31:41: oggm.utils: Applying global task compile_run_output on 2 glaciers\n",
      "2025-08-15 14:31:41: oggm.utils: Applying compile_run_output on 2 gdirs.\n"
     ]
    },
    {
     "name": "stdout",
     "output_type": "stream",
     "text": [
      "\n",
      "Chunk complete, glacier results saved to DemoExportFGOALS_f3_L_Output.csv and climate data saved to DemoExportFGOALS_f3_L_ClimateData.csv\n",
      "Starting chunk 2/2 with 2 glaciers\n",
      "Processing 2 glaciers\n"
     ]
    },
    {
     "name": "stderr",
     "output_type": "stream",
     "text": [
      "Glacier processing:   0%|          | 0/1 [00:00<?, ?it/s]2025-08-15 14:31:41: oggm.workflow: init_glacier_directories from prepro level 5 on 2 glaciers.\n",
      "2025-08-15 14:31:41: oggm.workflow: Execute entity tasks [gdir_from_prepro] on 2 glaciers\n",
      "2025-08-15 14:31:42: oggm.workflow: Execute entity tasks [process_cmip_data] on 2 glaciers\n",
      "2025-08-15 14:31:44: oggm.workflow: Execute entity tasks [process_cmip_data] on 2 glaciers\n",
      "2025-08-15 14:31:47: oggm.workflow: Execute entity tasks [process_cmip_data] on 2 glaciers\n",
      "2025-08-15 14:31:50: oggm.workflow: Execute entity tasks [process_cmip_data] on 2 glaciers\n",
      "2025-08-15 14:31:52: oggm.workflow: Execute entity tasks [run_from_climate_data] on 2 glaciers\n",
      "2025-08-15 14:31:52: oggm.workflow: Execute entity tasks [run_from_climate_data] on 2 glaciers\n",
      "2025-08-15 14:31:53: oggm.workflow: Execute entity tasks [run_from_climate_data] on 2 glaciers\n",
      "2025-08-15 14:31:53: oggm.workflow: Execute entity tasks [run_from_climate_data] on 2 glaciers\n",
      "Glacier processing: 100%|██████████| 1/1 [00:11<00:00, 11.85s/it]\n",
      "2025-08-15 14:31:53: oggm.utils: Applying global task compile_run_output on 2 glaciers\n",
      "2025-08-15 14:31:53: oggm.utils: Applying compile_run_output on 2 gdirs.\n",
      "2025-08-15 14:31:53: oggm.utils: Applying global task compile_run_output on 2 glaciers\n",
      "2025-08-15 14:31:53: oggm.utils: Applying compile_run_output on 2 gdirs.\n",
      "2025-08-15 14:31:53: oggm.utils: Applying global task compile_run_output on 2 glaciers\n",
      "2025-08-15 14:31:53: oggm.utils: Applying compile_run_output on 2 gdirs.\n",
      "2025-08-15 14:31:53: oggm.utils: Applying global task compile_run_output on 2 glaciers\n",
      "2025-08-15 14:31:53: oggm.utils: Applying compile_run_output on 2 gdirs.\n",
      "2025-08-15 14:31:53: oggm.cfg: Reading default parameters from the OGGM `params.cfg` configuration file.\n",
      "2025-08-15 14:31:53: oggm.cfg: Multiprocessing switched OFF according to the parameter file.\n",
      "2025-08-15 14:31:53: oggm.cfg: Multiprocessing: using all available processors (N=8)\n",
      "2025-08-15 14:31:53: oggm.cfg: Multiprocessing switched ON after user settings.\n",
      "2025-08-15 14:31:53: oggm.cfg: PARAMS['store_fl_diagnostics'] changed from `False` to `True`.\n"
     ]
    },
    {
     "name": "stdout",
     "output_type": "stream",
     "text": [
      "\n",
      "Chunk complete, glacier results saved to DemoExportFGOALS_f3_L_Output.csv and climate data saved to DemoExportFGOALS_f3_L_ClimateData.csv\n",
      "Starting chunk 1/2 with 2 glaciers\n",
      "Processing 2 glaciers\n"
     ]
    },
    {
     "name": "stderr",
     "output_type": "stream",
     "text": [
      "Glacier processing:   0%|          | 0/1 [00:00<?, ?it/s]2025-08-15 14:31:53: oggm.workflow: init_glacier_directories from prepro level 5 on 2 glaciers.\n",
      "2025-08-15 14:31:53: oggm.workflow: Execute entity tasks [gdir_from_prepro] on 2 glaciers\n",
      "2025-08-15 14:32:01: oggm.workflow: Execute entity tasks [process_cmip_data] on 2 glaciers\n",
      "2025-08-15 14:32:03: oggm.workflow: Execute entity tasks [process_cmip_data] on 2 glaciers\n",
      "2025-08-15 14:32:05: oggm.workflow: Execute entity tasks [process_cmip_data] on 2 glaciers\n",
      "2025-08-15 14:32:08: oggm.workflow: Execute entity tasks [process_cmip_data] on 2 glaciers\n",
      "2025-08-15 14:32:10: oggm.workflow: Execute entity tasks [run_from_climate_data] on 2 glaciers\n",
      "2025-08-15 14:32:10: oggm.workflow: Execute entity tasks [run_from_climate_data] on 2 glaciers\n",
      "2025-08-15 14:32:11: oggm.workflow: Execute entity tasks [run_from_climate_data] on 2 glaciers\n",
      "2025-08-15 14:32:11: oggm.workflow: Execute entity tasks [run_from_climate_data] on 2 glaciers\n",
      "Glacier processing: 100%|██████████| 1/1 [00:18<00:00, 18.19s/it]\n",
      "2025-08-15 14:32:11: oggm.utils: Applying global task compile_run_output on 2 glaciers\n",
      "2025-08-15 14:32:11: oggm.utils: Applying compile_run_output on 2 gdirs.\n",
      "2025-08-15 14:32:11: oggm.utils: Applying global task compile_run_output on 2 glaciers\n",
      "2025-08-15 14:32:11: oggm.utils: Applying compile_run_output on 2 gdirs.\n",
      "2025-08-15 14:32:12: oggm.utils: Applying global task compile_run_output on 2 glaciers\n",
      "2025-08-15 14:32:12: oggm.utils: Applying compile_run_output on 2 gdirs.\n",
      "2025-08-15 14:32:12: oggm.utils: Applying global task compile_run_output on 2 glaciers\n",
      "2025-08-15 14:32:12: oggm.utils: Applying compile_run_output on 2 gdirs.\n"
     ]
    },
    {
     "name": "stdout",
     "output_type": "stream",
     "text": [
      "\n",
      "Chunk complete, glacier results saved to DemoExportGFDL_ESM4_Output.csv and climate data saved to DemoExportGFDL_ESM4_ClimateData.csv\n",
      "Starting chunk 2/2 with 2 glaciers\n",
      "Processing 2 glaciers\n"
     ]
    },
    {
     "name": "stderr",
     "output_type": "stream",
     "text": [
      "Glacier processing:   0%|          | 0/1 [00:00<?, ?it/s]2025-08-15 14:32:12: oggm.workflow: init_glacier_directories from prepro level 5 on 2 glaciers.\n",
      "2025-08-15 14:32:12: oggm.workflow: Execute entity tasks [gdir_from_prepro] on 2 glaciers\n",
      "2025-08-15 14:32:13: oggm.workflow: Execute entity tasks [process_cmip_data] on 2 glaciers\n",
      "2025-08-15 14:32:14: oggm.workflow: Execute entity tasks [process_cmip_data] on 2 glaciers\n",
      "2025-08-15 14:32:16: oggm.workflow: Execute entity tasks [process_cmip_data] on 2 glaciers\n",
      "2025-08-15 14:32:18: oggm.workflow: Execute entity tasks [process_cmip_data] on 2 glaciers\n",
      "2025-08-15 14:32:19: oggm.workflow: Execute entity tasks [run_from_climate_data] on 2 glaciers\n",
      "2025-08-15 14:32:19: oggm.workflow: Execute entity tasks [run_from_climate_data] on 2 glaciers\n",
      "2025-08-15 14:32:20: oggm.workflow: Execute entity tasks [run_from_climate_data] on 2 glaciers\n",
      "2025-08-15 14:32:20: oggm.workflow: Execute entity tasks [run_from_climate_data] on 2 glaciers\n",
      "Glacier processing: 100%|██████████| 1/1 [00:08<00:00,  8.26s/it]\n",
      "2025-08-15 14:32:20: oggm.utils: Applying global task compile_run_output on 2 glaciers\n",
      "2025-08-15 14:32:20: oggm.utils: Applying compile_run_output on 2 gdirs.\n",
      "2025-08-15 14:32:20: oggm.utils: Applying global task compile_run_output on 2 glaciers\n",
      "2025-08-15 14:32:20: oggm.utils: Applying compile_run_output on 2 gdirs.\n",
      "2025-08-15 14:32:20: oggm.utils: Applying global task compile_run_output on 2 glaciers\n",
      "2025-08-15 14:32:20: oggm.utils: Applying compile_run_output on 2 gdirs.\n",
      "2025-08-15 14:32:20: oggm.utils: Applying global task compile_run_output on 2 glaciers\n",
      "2025-08-15 14:32:20: oggm.utils: Applying compile_run_output on 2 gdirs.\n",
      "2025-08-15 14:32:20: oggm.cfg: Reading default parameters from the OGGM `params.cfg` configuration file.\n",
      "2025-08-15 14:32:20: oggm.cfg: Multiprocessing switched OFF according to the parameter file.\n",
      "2025-08-15 14:32:20: oggm.cfg: Multiprocessing: using all available processors (N=8)\n",
      "2025-08-15 14:32:20: oggm.cfg: Multiprocessing switched ON after user settings.\n",
      "2025-08-15 14:32:20: oggm.cfg: PARAMS['store_fl_diagnostics'] changed from `False` to `True`.\n"
     ]
    },
    {
     "name": "stdout",
     "output_type": "stream",
     "text": [
      "\n",
      "Chunk complete, glacier results saved to DemoExportGFDL_ESM4_Output.csv and climate data saved to DemoExportGFDL_ESM4_ClimateData.csv\n",
      "Starting chunk 1/2 with 2 glaciers\n",
      "Processing 2 glaciers\n"
     ]
    },
    {
     "name": "stderr",
     "output_type": "stream",
     "text": [
      "Glacier processing:   0%|          | 0/1 [00:00<?, ?it/s]2025-08-15 14:32:21: oggm.workflow: init_glacier_directories from prepro level 5 on 2 glaciers.\n",
      "2025-08-15 14:32:21: oggm.workflow: Execute entity tasks [gdir_from_prepro] on 2 glaciers\n",
      "2025-08-15 14:32:27: oggm.workflow: Execute entity tasks [process_cmip_data] on 2 glaciers\n",
      "2025-08-15 14:32:30: oggm.workflow: Execute entity tasks [process_cmip_data] on 2 glaciers\n",
      "2025-08-15 14:32:32: oggm.workflow: Execute entity tasks [process_cmip_data] on 2 glaciers\n",
      "2025-08-15 14:32:35: oggm.workflow: Execute entity tasks [process_cmip_data] on 2 glaciers\n",
      "2025-08-15 14:32:37: oggm.workflow: Execute entity tasks [run_from_climate_data] on 2 glaciers\n",
      "2025-08-15 14:32:38: oggm.workflow: Execute entity tasks [run_from_climate_data] on 2 glaciers\n",
      "2025-08-15 14:32:38: oggm.workflow: Execute entity tasks [run_from_climate_data] on 2 glaciers\n",
      "2025-08-15 14:32:38: oggm.workflow: Execute entity tasks [run_from_climate_data] on 2 glaciers\n",
      "Glacier processing: 100%|██████████| 1/1 [00:18<00:00, 18.29s/it]\n",
      "2025-08-15 14:32:39: oggm.utils: Applying global task compile_run_output on 2 glaciers\n",
      "2025-08-15 14:32:39: oggm.utils: Applying compile_run_output on 2 gdirs.\n",
      "2025-08-15 14:32:39: oggm.utils: Applying global task compile_run_output on 2 glaciers\n",
      "2025-08-15 14:32:39: oggm.utils: Applying compile_run_output on 2 gdirs.\n",
      "2025-08-15 14:32:39: oggm.utils: Applying global task compile_run_output on 2 glaciers\n",
      "2025-08-15 14:32:39: oggm.utils: Applying compile_run_output on 2 gdirs.\n",
      "2025-08-15 14:32:39: oggm.utils: Applying global task compile_run_output on 2 glaciers\n",
      "2025-08-15 14:32:39: oggm.utils: Applying compile_run_output on 2 gdirs.\n"
     ]
    },
    {
     "name": "stdout",
     "output_type": "stream",
     "text": [
      "\n",
      "Chunk complete, glacier results saved to DemoExportMPI_ESM1_2_HR_Output.csv and climate data saved to DemoExportMPI_ESM1_2_HR_ClimateData.csv\n",
      "Starting chunk 2/2 with 2 glaciers\n",
      "Processing 2 glaciers\n"
     ]
    },
    {
     "name": "stderr",
     "output_type": "stream",
     "text": [
      "Glacier processing:   0%|          | 0/1 [00:00<?, ?it/s]2025-08-15 14:32:39: oggm.workflow: init_glacier_directories from prepro level 5 on 2 glaciers.\n",
      "2025-08-15 14:32:39: oggm.workflow: Execute entity tasks [gdir_from_prepro] on 2 glaciers\n",
      "2025-08-15 14:32:40: oggm.workflow: Execute entity tasks [process_cmip_data] on 2 glaciers\n",
      "2025-08-15 14:32:42: oggm.workflow: Execute entity tasks [process_cmip_data] on 2 glaciers\n",
      "2025-08-15 14:32:45: oggm.workflow: Execute entity tasks [process_cmip_data] on 2 glaciers\n",
      "2025-08-15 14:32:47: oggm.workflow: Execute entity tasks [process_cmip_data] on 2 glaciers\n",
      "2025-08-15 14:32:49: oggm.workflow: Execute entity tasks [run_from_climate_data] on 2 glaciers\n",
      "2025-08-15 14:32:49: oggm.workflow: Execute entity tasks [run_from_climate_data] on 2 glaciers\n",
      "2025-08-15 14:32:49: oggm.workflow: Execute entity tasks [run_from_climate_data] on 2 glaciers\n",
      "2025-08-15 14:32:50: oggm.workflow: Execute entity tasks [run_from_climate_data] on 2 glaciers\n",
      "Glacier processing: 100%|██████████| 1/1 [00:10<00:00, 10.66s/it]\n",
      "2025-08-15 14:32:50: oggm.utils: Applying global task compile_run_output on 2 glaciers\n",
      "2025-08-15 14:32:50: oggm.utils: Applying compile_run_output on 2 gdirs.\n",
      "2025-08-15 14:32:50: oggm.utils: Applying global task compile_run_output on 2 glaciers\n",
      "2025-08-15 14:32:50: oggm.utils: Applying compile_run_output on 2 gdirs.\n",
      "2025-08-15 14:32:50: oggm.utils: Applying global task compile_run_output on 2 glaciers\n",
      "2025-08-15 14:32:50: oggm.utils: Applying compile_run_output on 2 gdirs.\n",
      "2025-08-15 14:32:50: oggm.utils: Applying global task compile_run_output on 2 glaciers\n",
      "2025-08-15 14:32:50: oggm.utils: Applying compile_run_output on 2 gdirs.\n",
      "2025-08-15 14:32:50: oggm.cfg: Reading default parameters from the OGGM `params.cfg` configuration file.\n",
      "2025-08-15 14:32:50: oggm.cfg: Multiprocessing switched OFF according to the parameter file.\n",
      "2025-08-15 14:32:50: oggm.cfg: Multiprocessing: using all available processors (N=8)\n",
      "2025-08-15 14:32:50: oggm.cfg: Multiprocessing switched ON after user settings.\n",
      "2025-08-15 14:32:50: oggm.cfg: PARAMS['store_fl_diagnostics'] changed from `False` to `True`.\n"
     ]
    },
    {
     "name": "stdout",
     "output_type": "stream",
     "text": [
      "\n",
      "Chunk complete, glacier results saved to DemoExportMPI_ESM1_2_HR_Output.csv and climate data saved to DemoExportMPI_ESM1_2_HR_ClimateData.csv\n",
      "Starting chunk 1/2 with 2 glaciers\n",
      "Processing 2 glaciers\n"
     ]
    },
    {
     "name": "stderr",
     "output_type": "stream",
     "text": [
      "Glacier processing:   0%|          | 0/1 [00:00<?, ?it/s]2025-08-15 14:32:50: oggm.workflow: init_glacier_directories from prepro level 5 on 2 glaciers.\n",
      "2025-08-15 14:32:50: oggm.workflow: Execute entity tasks [gdir_from_prepro] on 2 glaciers\n",
      "2025-08-15 14:32:57: oggm.workflow: Execute entity tasks [process_cmip_data] on 2 glaciers\n",
      "2025-08-15 14:33:00: oggm.workflow: Execute entity tasks [process_cmip_data] on 2 glaciers\n",
      "2025-08-15 14:33:02: oggm.workflow: Execute entity tasks [process_cmip_data] on 2 glaciers\n",
      "2025-08-15 14:33:04: oggm.workflow: Execute entity tasks [process_cmip_data] on 2 glaciers\n",
      "2025-08-15 14:33:06: oggm.workflow: Execute entity tasks [run_from_climate_data] on 2 glaciers\n",
      "2025-08-15 14:33:07: oggm.workflow: Execute entity tasks [run_from_climate_data] on 2 glaciers\n",
      "2025-08-15 14:33:07: oggm.workflow: Execute entity tasks [run_from_climate_data] on 2 glaciers\n",
      "2025-08-15 14:33:08: oggm.workflow: Execute entity tasks [run_from_climate_data] on 2 glaciers\n",
      "Glacier processing: 100%|██████████| 1/1 [00:18<00:00, 18.05s/it]\n",
      "2025-08-15 14:33:08: oggm.utils: Applying global task compile_run_output on 2 glaciers\n",
      "2025-08-15 14:33:08: oggm.utils: Applying compile_run_output on 2 gdirs.\n",
      "2025-08-15 14:33:08: oggm.utils: Applying global task compile_run_output on 2 glaciers\n",
      "2025-08-15 14:33:08: oggm.utils: Applying compile_run_output on 2 gdirs.\n",
      "2025-08-15 14:33:08: oggm.utils: Applying global task compile_run_output on 2 glaciers\n",
      "2025-08-15 14:33:08: oggm.utils: Applying compile_run_output on 2 gdirs.\n",
      "2025-08-15 14:33:08: oggm.utils: Applying global task compile_run_output on 2 glaciers\n",
      "2025-08-15 14:33:08: oggm.utils: Applying compile_run_output on 2 gdirs.\n"
     ]
    },
    {
     "name": "stdout",
     "output_type": "stream",
     "text": [
      "\n",
      "Chunk complete, glacier results saved to DemoExportMRI_ESM2_0_Output.csv and climate data saved to DemoExportMRI_ESM2_0_ClimateData.csv\n",
      "Starting chunk 2/2 with 2 glaciers\n",
      "Processing 2 glaciers\n"
     ]
    },
    {
     "name": "stderr",
     "output_type": "stream",
     "text": [
      "Glacier processing:   0%|          | 0/1 [00:00<?, ?it/s]2025-08-15 14:33:09: oggm.workflow: init_glacier_directories from prepro level 5 on 2 glaciers.\n",
      "2025-08-15 14:33:09: oggm.workflow: Execute entity tasks [gdir_from_prepro] on 2 glaciers\n",
      "2025-08-15 14:33:09: oggm.workflow: Execute entity tasks [process_cmip_data] on 2 glaciers\n",
      "2025-08-15 14:33:11: oggm.workflow: Execute entity tasks [process_cmip_data] on 2 glaciers\n",
      "2025-08-15 14:33:13: oggm.workflow: Execute entity tasks [process_cmip_data] on 2 glaciers\n",
      "2025-08-15 14:33:15: oggm.workflow: Execute entity tasks [process_cmip_data] on 2 glaciers\n",
      "2025-08-15 14:33:16: oggm.workflow: Execute entity tasks [run_from_climate_data] on 2 glaciers\n",
      "2025-08-15 14:33:17: oggm.workflow: Execute entity tasks [run_from_climate_data] on 2 glaciers\n",
      "2025-08-15 14:33:17: oggm.workflow: Execute entity tasks [run_from_climate_data] on 2 glaciers\n",
      "2025-08-15 14:33:17: oggm.workflow: Execute entity tasks [run_from_climate_data] on 2 glaciers\n",
      "Glacier processing: 100%|██████████| 1/1 [00:08<00:00,  8.56s/it]\n",
      "2025-08-15 14:33:17: oggm.utils: Applying global task compile_run_output on 2 glaciers\n",
      "2025-08-15 14:33:17: oggm.utils: Applying compile_run_output on 2 gdirs.\n",
      "2025-08-15 14:33:17: oggm.utils: Applying global task compile_run_output on 2 glaciers\n",
      "2025-08-15 14:33:17: oggm.utils: Applying compile_run_output on 2 gdirs.\n",
      "2025-08-15 14:33:17: oggm.utils: Applying global task compile_run_output on 2 glaciers\n",
      "2025-08-15 14:33:17: oggm.utils: Applying compile_run_output on 2 gdirs.\n",
      "2025-08-15 14:33:17: oggm.utils: Applying global task compile_run_output on 2 glaciers\n",
      "2025-08-15 14:33:17: oggm.utils: Applying compile_run_output on 2 gdirs.\n",
      "2025-08-15 14:33:18: oggm.cfg: Reading default parameters from the OGGM `params.cfg` configuration file.\n",
      "2025-08-15 14:33:18: oggm.cfg: Multiprocessing switched OFF according to the parameter file.\n",
      "2025-08-15 14:33:18: oggm.cfg: Multiprocessing: using all available processors (N=8)\n",
      "2025-08-15 14:33:18: oggm.cfg: Multiprocessing switched ON after user settings.\n",
      "2025-08-15 14:33:18: oggm.cfg: PARAMS['store_fl_diagnostics'] changed from `False` to `True`.\n"
     ]
    },
    {
     "name": "stdout",
     "output_type": "stream",
     "text": [
      "\n",
      "Chunk complete, glacier results saved to DemoExportMRI_ESM2_0_Output.csv and climate data saved to DemoExportMRI_ESM2_0_ClimateData.csv\n",
      "Starting chunk 1/2 with 2 glaciers\n",
      "Processing 2 glaciers\n"
     ]
    },
    {
     "name": "stderr",
     "output_type": "stream",
     "text": [
      "Glacier processing:   0%|          | 0/1 [00:00<?, ?it/s]2025-08-15 14:33:18: oggm.workflow: init_glacier_directories from prepro level 5 on 2 glaciers.\n",
      "2025-08-15 14:33:18: oggm.workflow: Execute entity tasks [gdir_from_prepro] on 2 glaciers\n",
      "2025-08-15 14:33:25: oggm.workflow: Execute entity tasks [process_cmip_data] on 2 glaciers\n",
      "2025-08-15 14:33:27: oggm.workflow: Execute entity tasks [process_cmip_data] on 2 glaciers\n",
      "2025-08-15 14:33:29: oggm.workflow: Execute entity tasks [process_cmip_data] on 2 glaciers\n",
      "2025-08-15 14:33:31: oggm.workflow: Execute entity tasks [process_cmip_data] on 2 glaciers\n",
      "2025-08-15 14:33:34: oggm.workflow: Execute entity tasks [run_from_climate_data] on 2 glaciers\n",
      "2025-08-15 14:33:34: oggm.workflow: Execute entity tasks [run_from_climate_data] on 2 glaciers\n",
      "2025-08-15 14:33:34: oggm.workflow: Execute entity tasks [run_from_climate_data] on 2 glaciers\n",
      "2025-08-15 14:33:35: oggm.workflow: Execute entity tasks [run_from_climate_data] on 2 glaciers\n",
      "Glacier processing: 100%|██████████| 1/1 [00:17<00:00, 17.72s/it]\n",
      "2025-08-15 14:33:35: oggm.utils: Applying global task compile_run_output on 2 glaciers\n",
      "2025-08-15 14:33:35: oggm.utils: Applying compile_run_output on 2 gdirs.\n",
      "2025-08-15 14:33:35: oggm.utils: Applying global task compile_run_output on 2 glaciers\n",
      "2025-08-15 14:33:35: oggm.utils: Applying compile_run_output on 2 gdirs.\n",
      "2025-08-15 14:33:35: oggm.utils: Applying global task compile_run_output on 2 glaciers\n",
      "2025-08-15 14:33:35: oggm.utils: Applying compile_run_output on 2 gdirs.\n",
      "2025-08-15 14:33:35: oggm.utils: Applying global task compile_run_output on 2 glaciers\n",
      "2025-08-15 14:33:35: oggm.utils: Applying compile_run_output on 2 gdirs.\n"
     ]
    },
    {
     "name": "stdout",
     "output_type": "stream",
     "text": [
      "\n",
      "Chunk complete, glacier results saved to DemoExportNorESM2_MM_Output.csv and climate data saved to DemoExportNorESM2_MM_ClimateData.csv\n",
      "Starting chunk 2/2 with 2 glaciers\n",
      "Processing 2 glaciers\n"
     ]
    },
    {
     "name": "stderr",
     "output_type": "stream",
     "text": [
      "Glacier processing:   0%|          | 0/1 [00:00<?, ?it/s]2025-08-15 14:33:36: oggm.workflow: init_glacier_directories from prepro level 5 on 2 glaciers.\n",
      "2025-08-15 14:33:36: oggm.workflow: Execute entity tasks [gdir_from_prepro] on 2 glaciers\n",
      "2025-08-15 14:33:36: oggm.workflow: Execute entity tasks [process_cmip_data] on 2 glaciers\n",
      "2025-08-15 14:33:38: oggm.workflow: Execute entity tasks [process_cmip_data] on 2 glaciers\n",
      "2025-08-15 14:33:40: oggm.workflow: Execute entity tasks [process_cmip_data] on 2 glaciers\n",
      "2025-08-15 14:33:42: oggm.workflow: Execute entity tasks [process_cmip_data] on 2 glaciers\n",
      "2025-08-15 14:33:43: oggm.workflow: Execute entity tasks [run_from_climate_data] on 2 glaciers\n",
      "2025-08-15 14:33:44: oggm.workflow: Execute entity tasks [run_from_climate_data] on 2 glaciers\n",
      "2025-08-15 14:33:44: oggm.workflow: Execute entity tasks [run_from_climate_data] on 2 glaciers\n",
      "2025-08-15 14:33:44: oggm.workflow: Execute entity tasks [run_from_climate_data] on 2 glaciers\n",
      "Glacier processing: 100%|██████████| 1/1 [00:08<00:00,  8.63s/it]\n",
      "2025-08-15 14:33:44: oggm.utils: Applying global task compile_run_output on 2 glaciers\n",
      "2025-08-15 14:33:44: oggm.utils: Applying compile_run_output on 2 gdirs.\n",
      "2025-08-15 14:33:44: oggm.utils: Applying global task compile_run_output on 2 glaciers\n",
      "2025-08-15 14:33:44: oggm.utils: Applying compile_run_output on 2 gdirs.\n",
      "2025-08-15 14:33:44: oggm.utils: Applying global task compile_run_output on 2 glaciers\n",
      "2025-08-15 14:33:44: oggm.utils: Applying compile_run_output on 2 gdirs.\n",
      "2025-08-15 14:33:44: oggm.utils: Applying global task compile_run_output on 2 glaciers\n",
      "2025-08-15 14:33:44: oggm.utils: Applying compile_run_output on 2 gdirs.\n"
     ]
    },
    {
     "name": "stdout",
     "output_type": "stream",
     "text": [
      "\n",
      "Chunk complete, glacier results saved to DemoExportNorESM2_MM_Output.csv and climate data saved to DemoExportNorESM2_MM_ClimateData.csv\n"
     ]
    }
   ],
   "source": [
    "# Defines GCMs for simulation\n",
    "GCMs = [\n",
    "        'BCC-CSM2-MR', 'CAMS-CSM1-0', 'CESM2',\n",
    "        'EC-Earth3-Veg', 'FGOALS-f3-L', 'GFDL-ESM4',\n",
    "        'MPI-ESM1-2-HR', 'MRI-ESM2-0', 'NorESM2-MM'\n",
    "        ]\n",
    "\n",
    "# Loops through simulations under each GCM\n",
    "for GCM in GCMs:\n",
    "    multi_sim(\n",
    "        GCM=GCM, \n",
    "        num_chunks=2,\n",
    "        process_chunk_size=50, \n",
    "        clear_previous=False\n",
    "        )"
   ]
  },
  {
   "cell_type": "markdown",
   "id": "645751af",
   "metadata": {},
   "source": [
    "# Ice thickness redistribution\n",
    "The thickness_sim function reruns the same simulations conducted above but for selected glaciers. It then utilises OGGM's ice thickness redistribution function and exports a NetCDF file for each SSP and GCM. process_thickness is then used to take the GCM-ensemble mean ice thickness for each SSP and exports this for use in QGIS. For demonstration purposes, the function has only be run on a single glacier - again this takes a while to run across the GCM-ensemble. The thickness_ensemble function is then used to calculate the GCM-ensemble mean ice thickness change and export the output to GeoTiffs for plotting in QGIS"
   ]
  },
  {
   "cell_type": "code",
   "execution_count": null,
   "id": "c16e8a9b",
   "metadata": {},
   "outputs": [
    {
     "name": "stderr",
     "output_type": "stream",
     "text": [
      "2025-08-15 14:34:37: oggm.cfg: Reading default parameters from the OGGM `params.cfg` configuration file.\n",
      "2025-08-15 14:34:37: oggm.cfg: Multiprocessing switched OFF according to the parameter file.\n",
      "2025-08-15 14:34:37: oggm.cfg: Multiprocessing: using all available processors (N=8)\n",
      "2025-08-15 14:34:37: oggm.cfg: Multiprocessing switched ON after user settings.\n",
      "2025-08-15 14:34:37: oggm.workflow: init_glacier_directories from prepro level 4 on 1 glaciers.\n",
      "2025-08-15 14:34:37: oggm.workflow: Execute entity tasks [gdir_from_prepro] on 1 glaciers\n",
      "2025-08-15 14:34:38: oggm.workflow: Execute entity tasks [process_cmip_data] on 1 glaciers\n"
     ]
    },
    {
     "name": "stdout",
     "output_type": "stream",
     "text": [
      "Processing RGI60-01.13696 for BCC-CSM2-MR\n"
     ]
    },
    {
     "name": "stderr",
     "output_type": "stream",
     "text": [
      "2025-08-15 14:34:41: oggm.workflow: Execute entity tasks [process_cmip_data] on 1 glaciers\n",
      "2025-08-15 14:34:44: oggm.workflow: Execute entity tasks [process_cmip_data] on 1 glaciers\n",
      "2025-08-15 14:34:47: oggm.workflow: Execute entity tasks [process_cmip_data] on 1 glaciers\n",
      "2025-08-15 14:34:49: oggm.workflow: Execute entity tasks [run_from_climate_data] on 1 glaciers\n",
      "2025-08-15 14:35:19: oggm.workflow: Execute entity tasks [run_from_climate_data] on 1 glaciers\n"
     ]
    },
    {
     "name": "stdout",
     "output_type": "stream",
     "text": [
      "Saved for ssp126\n"
     ]
    },
    {
     "name": "stderr",
     "output_type": "stream",
     "text": [
      "2025-08-15 14:35:47: oggm.workflow: Execute entity tasks [run_from_climate_data] on 1 glaciers\n"
     ]
    },
    {
     "name": "stdout",
     "output_type": "stream",
     "text": [
      "Saved for ssp245\n"
     ]
    },
    {
     "name": "stderr",
     "output_type": "stream",
     "text": [
      "2025-08-15 14:36:16: oggm.workflow: Execute entity tasks [run_from_climate_data] on 1 glaciers\n"
     ]
    },
    {
     "name": "stdout",
     "output_type": "stream",
     "text": [
      "Saved for ssp370\n"
     ]
    },
    {
     "name": "stderr",
     "output_type": "stream",
     "text": [
      "2025-08-15 14:36:44: oggm.workflow: Execute entity tasks [process_cmip_data] on 1 glaciers\n"
     ]
    },
    {
     "name": "stdout",
     "output_type": "stream",
     "text": [
      "Saved for ssp585\n",
      "Processing RGI60-01.13696 for CAMS-CSM1-0\n"
     ]
    },
    {
     "name": "stderr",
     "output_type": "stream",
     "text": [
      "2025-08-15 14:36:46: oggm.workflow: Execute entity tasks [process_cmip_data] on 1 glaciers\n",
      "2025-08-15 14:36:49: oggm.workflow: Execute entity tasks [process_cmip_data] on 1 glaciers\n",
      "2025-08-15 14:36:52: oggm.workflow: Execute entity tasks [process_cmip_data] on 1 glaciers\n",
      "2025-08-15 14:36:54: oggm.workflow: Execute entity tasks [run_from_climate_data] on 1 glaciers\n",
      "2025-08-15 14:37:24: oggm.workflow: Execute entity tasks [run_from_climate_data] on 1 glaciers\n"
     ]
    },
    {
     "name": "stdout",
     "output_type": "stream",
     "text": [
      "Saved for ssp126\n"
     ]
    },
    {
     "name": "stderr",
     "output_type": "stream",
     "text": [
      "2025-08-15 14:37:54: oggm.workflow: Execute entity tasks [run_from_climate_data] on 1 glaciers\n"
     ]
    },
    {
     "name": "stdout",
     "output_type": "stream",
     "text": [
      "Saved for ssp245\n"
     ]
    },
    {
     "name": "stderr",
     "output_type": "stream",
     "text": [
      "2025-08-15 14:38:23: oggm.workflow: Execute entity tasks [run_from_climate_data] on 1 glaciers\n"
     ]
    },
    {
     "name": "stdout",
     "output_type": "stream",
     "text": [
      "Saved for ssp370\n"
     ]
    },
    {
     "name": "stderr",
     "output_type": "stream",
     "text": [
      "2025-08-15 14:38:52: oggm.workflow: Execute entity tasks [process_cmip_data] on 1 glaciers\n"
     ]
    },
    {
     "name": "stdout",
     "output_type": "stream",
     "text": [
      "Saved for ssp585\n",
      "Processing RGI60-01.13696 for CESM2\n"
     ]
    },
    {
     "name": "stderr",
     "output_type": "stream",
     "text": [
      "2025-08-15 14:38:54: oggm.workflow: Execute entity tasks [process_cmip_data] on 1 glaciers\n",
      "2025-08-15 14:38:55: oggm.workflow: Execute entity tasks [process_cmip_data] on 1 glaciers\n",
      "2025-08-15 14:38:57: oggm.workflow: Execute entity tasks [process_cmip_data] on 1 glaciers\n",
      "2025-08-15 14:38:58: oggm.workflow: Execute entity tasks [run_from_climate_data] on 1 glaciers\n",
      "2025-08-15 14:39:25: oggm.workflow: Execute entity tasks [run_from_climate_data] on 1 glaciers\n"
     ]
    },
    {
     "name": "stdout",
     "output_type": "stream",
     "text": [
      "Saved for ssp126\n"
     ]
    },
    {
     "name": "stderr",
     "output_type": "stream",
     "text": [
      "2025-08-15 14:39:52: oggm.workflow: Execute entity tasks [run_from_climate_data] on 1 glaciers\n"
     ]
    },
    {
     "name": "stdout",
     "output_type": "stream",
     "text": [
      "Saved for ssp245\n"
     ]
    },
    {
     "name": "stderr",
     "output_type": "stream",
     "text": [
      "2025-08-15 14:40:19: oggm.workflow: Execute entity tasks [run_from_climate_data] on 1 glaciers\n"
     ]
    },
    {
     "name": "stdout",
     "output_type": "stream",
     "text": [
      "Saved for ssp370\n"
     ]
    },
    {
     "name": "stderr",
     "output_type": "stream",
     "text": [
      "2025-08-15 14:40:51: oggm.workflow: Execute entity tasks [process_cmip_data] on 1 glaciers\n"
     ]
    },
    {
     "name": "stdout",
     "output_type": "stream",
     "text": [
      "Saved for ssp585\n",
      "Processing RGI60-01.13696 for EC-Earth3-Veg\n"
     ]
    },
    {
     "name": "stderr",
     "output_type": "stream",
     "text": [
      "2025-08-15 14:40:54: oggm.workflow: Execute entity tasks [process_cmip_data] on 1 glaciers\n",
      "2025-08-15 14:40:57: oggm.workflow: Execute entity tasks [process_cmip_data] on 1 glaciers\n",
      "2025-08-15 14:41:00: oggm.workflow: Execute entity tasks [process_cmip_data] on 1 glaciers\n",
      "2025-08-15 14:41:03: oggm.workflow: Execute entity tasks [run_from_climate_data] on 1 glaciers\n",
      "2025-08-15 14:41:40: oggm.workflow: Execute entity tasks [run_from_climate_data] on 1 glaciers\n"
     ]
    },
    {
     "name": "stdout",
     "output_type": "stream",
     "text": [
      "Saved for ssp126\n"
     ]
    },
    {
     "name": "stderr",
     "output_type": "stream",
     "text": [
      "2025-08-15 14:42:19: oggm.workflow: Execute entity tasks [run_from_climate_data] on 1 glaciers\n"
     ]
    },
    {
     "name": "stdout",
     "output_type": "stream",
     "text": [
      "Saved for ssp245\n"
     ]
    },
    {
     "name": "stderr",
     "output_type": "stream",
     "text": [
      "2025-08-15 14:42:55: oggm.workflow: Execute entity tasks [run_from_climate_data] on 1 glaciers\n"
     ]
    },
    {
     "name": "stdout",
     "output_type": "stream",
     "text": [
      "Saved for ssp370\n"
     ]
    },
    {
     "name": "stderr",
     "output_type": "stream",
     "text": [
      "2025-08-15 14:43:36: oggm.workflow: Execute entity tasks [process_cmip_data] on 1 glaciers\n"
     ]
    },
    {
     "name": "stdout",
     "output_type": "stream",
     "text": [
      "Saved for ssp585\n",
      "Processing RGI60-01.13696 for FGOALS-f3-L\n"
     ]
    },
    {
     "name": "stderr",
     "output_type": "stream",
     "text": [
      "2025-08-15 14:43:39: oggm.workflow: Execute entity tasks [process_cmip_data] on 1 glaciers\n",
      "2025-08-15 14:43:41: oggm.workflow: Execute entity tasks [process_cmip_data] on 1 glaciers\n",
      "2025-08-15 14:43:44: oggm.workflow: Execute entity tasks [process_cmip_data] on 1 glaciers\n",
      "2025-08-15 14:43:46: oggm.workflow: Execute entity tasks [run_from_climate_data] on 1 glaciers\n",
      "2025-08-15 14:44:28: oggm.workflow: Execute entity tasks [run_from_climate_data] on 1 glaciers\n"
     ]
    },
    {
     "name": "stdout",
     "output_type": "stream",
     "text": [
      "Saved for ssp126\n"
     ]
    },
    {
     "name": "stderr",
     "output_type": "stream",
     "text": [
      "2025-08-15 14:45:10: oggm.workflow: Execute entity tasks [run_from_climate_data] on 1 glaciers\n"
     ]
    },
    {
     "name": "stdout",
     "output_type": "stream",
     "text": [
      "Saved for ssp245\n"
     ]
    },
    {
     "name": "stderr",
     "output_type": "stream",
     "text": [
      "2025-08-15 14:45:56: oggm.workflow: Execute entity tasks [run_from_climate_data] on 1 glaciers\n"
     ]
    },
    {
     "name": "stdout",
     "output_type": "stream",
     "text": [
      "Saved for ssp370\n"
     ]
    },
    {
     "name": "stderr",
     "output_type": "stream",
     "text": [
      "2025-08-15 14:46:43: oggm.workflow: Execute entity tasks [process_cmip_data] on 1 glaciers\n"
     ]
    },
    {
     "name": "stdout",
     "output_type": "stream",
     "text": [
      "Saved for ssp585\n",
      "Processing RGI60-01.13696 for GFDL-ESM4\n"
     ]
    },
    {
     "name": "stderr",
     "output_type": "stream",
     "text": [
      "2025-08-15 14:46:45: oggm.workflow: Execute entity tasks [process_cmip_data] on 1 glaciers\n",
      "2025-08-15 14:46:46: oggm.workflow: Execute entity tasks [process_cmip_data] on 1 glaciers\n",
      "2025-08-15 14:46:48: oggm.workflow: Execute entity tasks [process_cmip_data] on 1 glaciers\n",
      "2025-08-15 14:46:49: oggm.workflow: Execute entity tasks [run_from_climate_data] on 1 glaciers\n",
      "2025-08-15 14:47:34: oggm.workflow: Execute entity tasks [run_from_climate_data] on 1 glaciers\n"
     ]
    },
    {
     "name": "stdout",
     "output_type": "stream",
     "text": [
      "Saved for ssp126\n"
     ]
    },
    {
     "name": "stderr",
     "output_type": "stream",
     "text": [
      "2025-08-15 14:48:17: oggm.workflow: Execute entity tasks [run_from_climate_data] on 1 glaciers\n"
     ]
    },
    {
     "name": "stdout",
     "output_type": "stream",
     "text": [
      "Saved for ssp245\n"
     ]
    },
    {
     "name": "stderr",
     "output_type": "stream",
     "text": [
      "2025-08-15 14:49:01: oggm.workflow: Execute entity tasks [run_from_climate_data] on 1 glaciers\n"
     ]
    },
    {
     "name": "stdout",
     "output_type": "stream",
     "text": [
      "Saved for ssp370\n"
     ]
    },
    {
     "name": "stderr",
     "output_type": "stream",
     "text": [
      "2025-08-15 14:49:48: oggm.workflow: Execute entity tasks [process_cmip_data] on 1 glaciers\n"
     ]
    },
    {
     "name": "stdout",
     "output_type": "stream",
     "text": [
      "Saved for ssp585\n",
      "Processing RGI60-01.13696 for MPI-ESM1-2-HR\n"
     ]
    },
    {
     "name": "stderr",
     "output_type": "stream",
     "text": [
      "2025-08-15 14:49:50: oggm.workflow: Execute entity tasks [process_cmip_data] on 1 glaciers\n",
      "2025-08-15 14:49:52: oggm.workflow: Execute entity tasks [process_cmip_data] on 1 glaciers\n",
      "2025-08-15 14:49:53: oggm.workflow: Execute entity tasks [process_cmip_data] on 1 glaciers\n",
      "2025-08-15 14:49:55: oggm.workflow: Execute entity tasks [run_from_climate_data] on 1 glaciers\n",
      "2025-08-15 14:50:41: oggm.workflow: Execute entity tasks [run_from_climate_data] on 1 glaciers\n"
     ]
    },
    {
     "name": "stdout",
     "output_type": "stream",
     "text": [
      "Saved for ssp126\n"
     ]
    },
    {
     "name": "stderr",
     "output_type": "stream",
     "text": [
      "2025-08-15 14:51:27: oggm.workflow: Execute entity tasks [run_from_climate_data] on 1 glaciers\n"
     ]
    },
    {
     "name": "stdout",
     "output_type": "stream",
     "text": [
      "Saved for ssp245\n"
     ]
    },
    {
     "name": "stderr",
     "output_type": "stream",
     "text": [
      "2025-08-15 14:52:15: oggm.workflow: Execute entity tasks [run_from_climate_data] on 1 glaciers\n"
     ]
    },
    {
     "name": "stdout",
     "output_type": "stream",
     "text": [
      "Saved for ssp370\n"
     ]
    },
    {
     "name": "stderr",
     "output_type": "stream",
     "text": [
      "2025-08-15 14:53:01: oggm.workflow: Execute entity tasks [process_cmip_data] on 1 glaciers\n"
     ]
    },
    {
     "name": "stdout",
     "output_type": "stream",
     "text": [
      "Saved for ssp585\n",
      "Processing RGI60-01.13696 for MRI-ESM2-0\n"
     ]
    },
    {
     "name": "stderr",
     "output_type": "stream",
     "text": [
      "2025-08-15 14:53:02: oggm.workflow: Execute entity tasks [process_cmip_data] on 1 glaciers\n",
      "2025-08-15 14:53:04: oggm.workflow: Execute entity tasks [process_cmip_data] on 1 glaciers\n",
      "2025-08-15 14:53:05: oggm.workflow: Execute entity tasks [process_cmip_data] on 1 glaciers\n",
      "2025-08-15 14:53:07: oggm.workflow: Execute entity tasks [run_from_climate_data] on 1 glaciers\n",
      "2025-08-15 14:53:48: oggm.workflow: Execute entity tasks [run_from_climate_data] on 1 glaciers\n"
     ]
    },
    {
     "name": "stdout",
     "output_type": "stream",
     "text": [
      "Saved for ssp126\n"
     ]
    },
    {
     "name": "stderr",
     "output_type": "stream",
     "text": [
      "2025-08-15 14:54:31: oggm.workflow: Execute entity tasks [run_from_climate_data] on 1 glaciers\n"
     ]
    },
    {
     "name": "stdout",
     "output_type": "stream",
     "text": [
      "Saved for ssp245\n"
     ]
    },
    {
     "name": "stderr",
     "output_type": "stream",
     "text": [
      "2025-08-15 14:55:15: oggm.workflow: Execute entity tasks [run_from_climate_data] on 1 glaciers\n"
     ]
    },
    {
     "name": "stdout",
     "output_type": "stream",
     "text": [
      "Saved for ssp370\n"
     ]
    },
    {
     "name": "stderr",
     "output_type": "stream",
     "text": [
      "2025-08-15 14:55:56: oggm.workflow: Execute entity tasks [process_cmip_data] on 1 glaciers\n"
     ]
    },
    {
     "name": "stdout",
     "output_type": "stream",
     "text": [
      "Saved for ssp585\n",
      "Processing RGI60-01.13696 for NorESM2-MM\n"
     ]
    },
    {
     "name": "stderr",
     "output_type": "stream",
     "text": [
      "2025-08-15 14:55:58: oggm.workflow: Execute entity tasks [process_cmip_data] on 1 glaciers\n",
      "2025-08-15 14:55:59: oggm.workflow: Execute entity tasks [process_cmip_data] on 1 glaciers\n",
      "2025-08-15 14:56:01: oggm.workflow: Execute entity tasks [process_cmip_data] on 1 glaciers\n",
      "2025-08-15 14:56:03: oggm.workflow: Execute entity tasks [run_from_climate_data] on 1 glaciers\n",
      "2025-08-15 14:56:33: oggm.workflow: Execute entity tasks [run_from_climate_data] on 1 glaciers\n"
     ]
    },
    {
     "name": "stdout",
     "output_type": "stream",
     "text": [
      "Saved for ssp126\n"
     ]
    },
    {
     "name": "stderr",
     "output_type": "stream",
     "text": [
      "2025-08-15 14:57:03: oggm.workflow: Execute entity tasks [run_from_climate_data] on 1 glaciers\n"
     ]
    },
    {
     "name": "stdout",
     "output_type": "stream",
     "text": [
      "Saved for ssp245\n"
     ]
    },
    {
     "name": "stderr",
     "output_type": "stream",
     "text": [
      "2025-08-15 14:57:34: oggm.workflow: Execute entity tasks [run_from_climate_data] on 1 glaciers\n"
     ]
    },
    {
     "name": "stdout",
     "output_type": "stream",
     "text": [
      "Saved for ssp370\n",
      "Saved for ssp585\n"
     ]
    }
   ],
   "source": [
    "# Defines RGI ID for demonstration and runs thickness sim across the ensemble\n",
    "rgi_ids = ['RGI60-01.13696']\n",
    "\n",
    "thickness_sim(rgi_ids)"
   ]
  },
  {
   "cell_type": "code",
   "execution_count": 4,
   "id": "51a2ad29",
   "metadata": {},
   "outputs": [
    {
     "name": "stderr",
     "output_type": "stream",
     "text": [
      "2025-08-15 14:59:05: oggm.cfg: Reading default parameters from the OGGM `params.cfg` configuration file.\n",
      "2025-08-15 14:59:05: oggm.cfg: Multiprocessing switched OFF according to the parameter file.\n",
      "2025-08-15 14:59:05: oggm.cfg: Multiprocessing: using all available processors (N=8)\n",
      "2025-08-15 14:59:05: oggm.cfg: Multiprocessing switched ON after user settings.\n"
     ]
    },
    {
     "name": "stdout",
     "output_type": "stream",
     "text": [
      "\n",
      "Processing RGI60-01.13696\n"
     ]
    },
    {
     "name": "stderr",
     "output_type": "stream",
     "text": [
      "2025-08-15 14:59:06: oggm.workflow: init_glacier_directories from prepro level 4 on 1 glaciers.\n",
      "2025-08-15 14:59:06: oggm.workflow: Execute entity tasks [gdir_from_prepro] on 1 glaciers\n"
     ]
    },
    {
     "name": "stdout",
     "output_type": "stream",
     "text": [
      "Exported GeoTIFF for ssp126\n",
      "Exported GeoTIFF for ssp245\n",
      "Exported GeoTIFF for ssp370\n",
      "Exported GeoTIFF for ssp585\n"
     ]
    }
   ],
   "source": [
    "# Compiles the ensemble ice thickness change \n",
    "thickness_ensemble(rgi_ids)"
   ]
  }
 ],
 "metadata": {
  "kernelspec": {
   "display_name": "oggm_env39",
   "language": "python",
   "name": "python3"
  },
  "language_info": {
   "codemirror_mode": {
    "name": "ipython",
    "version": 3
   },
   "file_extension": ".py",
   "mimetype": "text/x-python",
   "name": "python",
   "nbconvert_exporter": "python",
   "pygments_lexer": "ipython3",
   "version": "3.9.22"
  }
 },
 "nbformat": 4,
 "nbformat_minor": 5
}
